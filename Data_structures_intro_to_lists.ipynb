{
  "nbformat": 4,
  "nbformat_minor": 0,
  "metadata": {
    "colab": {
      "provenance": [],
      "authorship_tag": "ABX9TyMNNn90EzuB++GEffXiYn3G",
      "include_colab_link": true
    },
    "kernelspec": {
      "name": "python3",
      "display_name": "Python 3"
    },
    "language_info": {
      "name": "python"
    }
  },
  "cells": [
    {
      "cell_type": "markdown",
      "metadata": {
        "id": "view-in-github",
        "colab_type": "text"
      },
      "source": [
        "<a href=\"https://colab.research.google.com/github/Bzitsman/Introduction-to-Programming-with-Python-and-Java-Specialization/blob/main/Data_structures_intro_to_lists.ipynb\" target=\"_parent\"><img src=\"https://colab.research.google.com/assets/colab-badge.svg\" alt=\"Open In Colab\"/></a>"
      ]
    },
    {
      "cell_type": "markdown",
      "source": [
        "# LISTS"
      ],
      "metadata": {
        "id": "6Jw4si5x1pNB"
      }
    },
    {
      "cell_type": "code",
      "execution_count": 1,
      "metadata": {
        "colab": {
          "base_uri": "https://localhost:8080/"
        },
        "id": "X6oi6FPe0DCF",
        "outputId": "ee27745c-8298-4a51-a34d-777aa5b384a7"
      },
      "outputs": [
        {
          "output_type": "stream",
          "name": "stdout",
          "text": [
            "['1', 'dog', 'cat', '798']\n"
          ]
        }
      ],
      "source": [
        "#create a list with reandom strings\n",
        "list1 = [ \"1\", \"dog\", \"cat\", \"798\"]\n",
        "print(list1)"
      ]
    },
    {
      "cell_type": "code",
      "source": [
        "#get the length of the list\n",
        "print(len(list1))"
      ],
      "metadata": {
        "colab": {
          "base_uri": "https://localhost:8080/"
        },
        "id": "kFz01C6j0Zed",
        "outputId": "42989501-e1dc-412b-e9b2-ce4c54d27443"
      },
      "execution_count": 2,
      "outputs": [
        {
          "output_type": "stream",
          "name": "stdout",
          "text": [
            "4\n"
          ]
        }
      ]
    },
    {
      "cell_type": "code",
      "source": [
        "#get the 2nd itme in the list\n",
        "print(list1[1])"
      ],
      "metadata": {
        "colab": {
          "base_uri": "https://localhost:8080/"
        },
        "id": "Z0XqvEkm0iFs",
        "outputId": "ce6c9030-913d-474f-ed46-162087bd883a"
      },
      "execution_count": 3,
      "outputs": [
        {
          "output_type": "stream",
          "name": "stdout",
          "text": [
            "dog\n"
          ]
        }
      ]
    },
    {
      "cell_type": "code",
      "source": [
        "#you can add items to a list\n",
        "list1.append(\"hello\")\n",
        "print(list1)"
      ],
      "metadata": {
        "colab": {
          "base_uri": "https://localhost:8080/"
        },
        "id": "OQf8ebJ-0qjH",
        "outputId": "7674723b-756e-40cd-f1f2-e26ee29d24e9"
      },
      "execution_count": 5,
      "outputs": [
        {
          "output_type": "stream",
          "name": "stdout",
          "text": [
            "['1', 'dog', 'cat', '798', 'hello', 'hello']\n"
          ]
        }
      ]
    },
    {
      "cell_type": "code",
      "source": [
        "#remove items from a list\n",
        "list1.pop() # removes the last item in the list\n",
        "print(list1)\n",
        "\n",
        "list1.pop(1) # removes the 2nd item in the list\n",
        "print(list1)\n"
      ],
      "metadata": {
        "colab": {
          "base_uri": "https://localhost:8080/"
        },
        "id": "77k73eAF07S8",
        "outputId": "7e11794f-8254-420a-8ec2-e1112f99377f"
      },
      "execution_count": 7,
      "outputs": [
        {
          "output_type": "stream",
          "name": "stdout",
          "text": [
            "['1', 'dog', 'cat', '798']\n",
            "['1', 'cat', '798']\n"
          ]
        }
      ]
    },
    {
      "cell_type": "code",
      "source": [
        "#check if an item is in a list\n",
        "print(\"dog\" in list1)"
      ],
      "metadata": {
        "colab": {
          "base_uri": "https://localhost:8080/"
        },
        "id": "yiFns2GY1PMG",
        "outputId": "b70435e9-b165-4868-be08-cc2a6d568a81"
      },
      "execution_count": 8,
      "outputs": [
        {
          "output_type": "stream",
          "name": "stdout",
          "text": [
            "False\n"
          ]
        }
      ]
    },
    {
      "cell_type": "markdown",
      "source": [
        "# LOOPS\n",
        "\n",
        "\n",
        "\n",
        "*   *for* Loops run a piece of code for a given number of times\n",
        "*   *while* Loops run a piece of code indefinitely while a condition is met\n",
        "\n"
      ],
      "metadata": {
        "id": "ZZszdIJ41yt1"
      }
    },
    {
      "cell_type": "code",
      "source": [
        "#print the list once\n",
        "numbers = [1,2,3,4,5,6,7,8,9,10]\n",
        "for number in numbers:\n",
        "  print(number)"
      ],
      "metadata": {
        "colab": {
          "base_uri": "https://localhost:8080/"
        },
        "id": "bogbEPSj12X2",
        "outputId": "ac05c83f-b0cc-4fbb-e4c8-2f343bfa8b1f"
      },
      "execution_count": 9,
      "outputs": [
        {
          "output_type": "stream",
          "name": "stdout",
          "text": [
            "1\n",
            "2\n",
            "3\n",
            "4\n",
            "5\n",
            "6\n",
            "7\n",
            "8\n",
            "9\n",
            "10\n"
          ]
        }
      ]
    },
    {
      "cell_type": "code",
      "source": [
        "#define list of numbers\n",
        "numbers = [1,2,3,4,5,6,7,8,9,10]\n",
        "\n",
        "#to store even numbers\n",
        "even_numbers = []\n",
        "\n",
        "#iterate over list\n",
        "for number in numbers:\n",
        "  #test if number is even\n",
        "  if (number % 2 == 0):\n",
        "    #append to even number list\n",
        "    even_numbers.append(number)\n",
        "print(even_numbers)"
      ],
      "metadata": {
        "colab": {
          "base_uri": "https://localhost:8080/"
        },
        "id": "WvKovSAu2pkZ",
        "outputId": "9f17bd88-fef7-4fd6-8e35-2e07ecc7f7ca"
      },
      "execution_count": 11,
      "outputs": [
        {
          "output_type": "stream",
          "name": "stdout",
          "text": [
            "[2, 4, 6, 8, 10]\n"
          ]
        }
      ]
    },
    {
      "cell_type": "code",
      "source": [
        "#define list of numbers\n",
        "numbers = [1,2,3,4,5,6,7,8,9,10]\n",
        "\n",
        "#to store even numbers\n",
        "even_numbers = []\n",
        "\n",
        "#to store count of even numbers\n",
        "even_count = 0\n",
        "\n",
        "#iterate over list\n",
        "for number in numbers:\n",
        "  #test if number is even\n",
        "  if (number % 2 == 0):\n",
        "    #append to even number list\n",
        "    even_numbers.append(number)\n",
        "\n",
        "    #increment count\n",
        "    even_count += 1\n",
        "\n",
        "print(even_numbers)\n",
        "print(\"There are\", even_count, \"number in the even list.\")\n",
        "#or\n",
        "print(\"There are\", len(even_numbers), \"number in the even list.\")"
      ],
      "metadata": {
        "colab": {
          "base_uri": "https://localhost:8080/"
        },
        "id": "e0Kczc4Q3qsR",
        "outputId": "56d9065b-63fe-4ab6-a2d2-9ba22de4958b"
      },
      "execution_count": 13,
      "outputs": [
        {
          "output_type": "stream",
          "name": "stdout",
          "text": [
            "[2, 4, 6, 8, 10]\n",
            "There are 5 number in the even list.\n",
            "There are 5 number in the even list.\n"
          ]
        }
      ]
    }
  ]
}