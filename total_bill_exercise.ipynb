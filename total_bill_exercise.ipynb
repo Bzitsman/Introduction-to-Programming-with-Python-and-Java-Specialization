{
  "nbformat": 4,
  "nbformat_minor": 0,
  "metadata": {
    "colab": {
      "provenance": [],
      "authorship_tag": "ABX9TyMYrtxMIRTKK5lNqVTOskTu",
      "include_colab_link": true
    },
    "kernelspec": {
      "name": "python3",
      "display_name": "Python 3"
    },
    "language_info": {
      "name": "python"
    }
  },
  "cells": [
    {
      "cell_type": "markdown",
      "metadata": {
        "id": "view-in-github",
        "colab_type": "text"
      },
      "source": [
        "<a href=\"https://colab.research.google.com/github/Bzitsman/Introduction-to-Programming-with-Python-and-Java-Specialization/blob/main/total_bill_exercise.ipynb\" target=\"_parent\"><img src=\"https://colab.research.google.com/assets/colab-badge.svg\" alt=\"Open In Colab\"/></a>"
      ]
    },
    {
      "cell_type": "code",
      "source": [
        "#define and set variables from user input (casted as a float)\n",
        "bill = float(input(\"How much is the meal? \"))\n",
        "tax = float(input(\"What is the sales tax (perecentage)?\"))\n",
        "tip = float(input(\"How much of a tip (perecentage)?\"))\n",
        "\n",
        "#calculate and add tax\n",
        "tax_amount = (bill * tax) / 100 #calculate the tax\n",
        "total = bill + tax_amount # add tax amount to final bill\n",
        "\n",
        "#calculate and add tip\n",
        "tip_amount = (total * tip) / 100 # calculate the tip\n",
        "total = total + tip_amount # add tip amount to final bill\n",
        "\n",
        "#round the total to 2 decimal places\n",
        "total = round(total, 2) #round the total amount\n",
        "\n",
        "#print the final amount\n",
        "print(\"The total bill is $\", total, sep='')"
      ],
      "metadata": {
        "id": "nssvHYgzHC_3",
        "colab": {
          "base_uri": "https://localhost:8080/"
        },
        "outputId": "b3477e59-757c-4f55-e56d-3e802af83f74"
      },
      "execution_count": null,
      "outputs": [
        {
          "output_type": "stream",
          "name": "stdout",
          "text": [
            "How much is the meal? 30\n",
            "What is the sales tax (perecentage)?6\n",
            "How much of a tip (perecentage)?18\n",
            "The total bill is $37.52\n"
          ]
        }
      ]
    }
  ]
}